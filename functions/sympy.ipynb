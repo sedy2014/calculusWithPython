{
 "cells": [
  {
   "cell_type": "markdown",
   "metadata": {},
   "source": [
    "### Sympy Tutorial\n",
    "-  *sp.init_printing()* is specifically for SymPy mathematical expressions and sets a global display format used to print/display expressions in nice math like format\n",
    "-  *display()* is similar but more versatile and can handle multiple types of objects, but needs to be called explicitly each time ( called as *from IPython.display import display*)\n",
    "- *sympy.symbols()*: core way to create symbolic objects . accepts string containing the names of the symbols you want, separated by spaces or commas. returns the Symbol objects, which you typically assign to Python variables.     \n",
    "- *sympy.var()* :Shortcut for symbols() with automatic assignment, It automatically creates the Symbol objects and assigns them to Python variables with the same names."
   ]
  },
  {
   "cell_type": "code",
   "execution_count": 1,
   "metadata": {},
   "outputs": [],
   "source": [
    "import sympy as sp\n",
    "import numpy as np"
   ]
  },
  {
   "cell_type": "code",
   "execution_count": 2,
   "metadata": {},
   "outputs": [
    {
     "data": {
      "image/png": "[encoded data removed]",
      "text/latex": [
       "$\\displaystyle y + 4$"
      ],
      "text/plain": [
       "y + 4"
      ]
     },
     "execution_count": 2,
     "metadata": {},
     "output_type": "execute_result"
    }
   ],
   "source": [
    "\n",
    "# Define  symbolic variables x and y\n",
    "x,y = sp.symbols('x y')\n",
    "#  printed as y+4 and not any value as its treated a symbolic variable\n",
    "y+4 \n",
    "# to enable symolic printing similar to latex , \n",
    "# #use sympy.init_printing() with display() function\n",
    "sp.init_printing()\n",
    "y+4"
   ]
  },
  {
   "cell_type": "code",
   "execution_count": 3,
   "metadata": {},
   "outputs": [
    {
     "name": "stdout",
     "output_type": "stream",
     "text": [
      "x**y\n"
     ]
    }
   ],
   "source": [
    "print(x**y)"
   ]
  },
  {
   "cell_type": "code",
   "execution_count": 4,
   "metadata": {},
   "outputs": [
    {
     "data": {
      "image/png": "[encoded data removed]",
      "text/latex": [
       "$\\displaystyle x^{y}$"
      ],
      "text/plain": [
       " y\n",
       "x "
      ]
     },
     "metadata": {},
     "output_type": "display_data"
    },
    {
     "data": {
      "image/png": "[encoded data removed]",
      "text/latex": [
       "$\\displaystyle 1.4142135623731$"
      ],
      "text/plain": [
       "1.4142135623730951"
      ]
     },
     "metadata": {},
     "output_type": "display_data"
    },
    {
     "data": {
      "image/png": "[encoded data removed]",
      "text/latex": [
       "$\\displaystyle \\sqrt{2}$"
      ],
      "text/plain": [
       "√2"
      ]
     },
     "metadata": {},
     "output_type": "display_data"
    }
   ],
   "source": [
    "from IPython.display import display\n",
    "display(x**y)\n",
    "display(np.sqrt(2))\n",
    "display(sp.sqrt(2))"
   ]
  },
  {
   "cell_type": "code",
   "execution_count": 5,
   "metadata": {},
   "outputs": [
    {
     "data": {
      "image/png": "[encoded data removed]",
      "text/latex": [
       "$\\displaystyle x^{2} y$"
      ],
      "text/plain": [
       " 2  \n",
       "x ⋅y"
      ]
     },
     "metadata": {},
     "output_type": "display_data"
    },
    {
     "data": {
      "image/png": "[encoded data removed]",
      "text/latex": [
       "$\\displaystyle \\frac{\\sqrt{2} e^{- \\frac{\\left(- \\mu + x\\right)^{2}}{2 \\sigma^{2}}}}{2 \\sqrt{\\pi} \\sigma}$"
      ],
      "text/plain": [
       "             2 \n",
       "    -(-μ + x)  \n",
       "    ───────────\n",
       "          2    \n",
       "       2⋅σ     \n",
       "√2⋅ℯ           \n",
       "───────────────\n",
       "    2⋅√π⋅σ     "
      ]
     },
     "metadata": {},
     "output_type": "display_data"
    }
   ],
   "source": [
    "x,y = sp.symbols('x y')\n",
    "display(y*x**2)\n",
    "# symbols also works with greek letters\n",
    "mu,sigma = sp.symbols('mu sigma')\n",
    "y_guass = 1/(sigma*sp.sqrt(2*sp.pi))*sp.exp(-(x-mu)**2/(2*sigma**2))\n",
    "display(y_guass)\n"
   ]
  },
  {
   "cell_type": "markdown",
   "metadata": {},
   "source": [
    "-  using ***sym.subs()***  \n",
    "*subs()*  is a method used to substitute values or expressions into symbolic expressions, thus evaluating symbolic expression at that value  \n",
    "*subs(x,2)* -> replace x with 2  \n",
    "expr.subs(old, new) - replaces old with new  \n",
    "expr.subs({old1: new1, old2: new2}) - multiple substitutions  "
   ]
  },
  {
   "cell_type": "code",
   "execution_count": 6,
   "metadata": {},
   "outputs": [
    {
     "data": {
      "image/png": "[encoded data removed]",
      "text/latex": [
       "$\\displaystyle x^{2} + 2 x + y$"
      ],
      "text/plain": [
       " 2          \n",
       "x  + 2⋅x + y"
      ]
     },
     "metadata": {},
     "output_type": "display_data"
    },
    {
     "data": {
      "image/png": "[encoded data removed]",
      "text/latex": [
       "$\\displaystyle y + 8$"
      ],
      "text/plain": [
       "y + 8"
      ]
     },
     "metadata": {},
     "output_type": "display_data"
    },
    {
     "data": {
      "image/png": "[encoded data removed]",
      "text/latex": [
       "$\\displaystyle 16$"
      ],
      "text/plain": [
       "16"
      ]
     },
     "metadata": {},
     "output_type": "display_data"
    },
    {
     "data": {
      "image/png": "[encoded data removed]",
      "text/latex": [
       "$\\displaystyle y^{2} + 3 y$"
      ],
      "text/plain": [
       " 2      \n",
       "y  + 3⋅y"
      ]
     },
     "metadata": {},
     "output_type": "display_data"
    }
   ],
   "source": [
    "# Define symbolic variables\n",
    "x, y = sp.symbols('x y')\n",
    "\n",
    "# Create an expression\n",
    "expr = x**2 + 2*x + y\n",
    "display(expr)\n",
    "# Basic substitution - replace x with 2\n",
    "#  # Returns: 4 + 2*2 + y = 8 + y\n",
    "display(expr.subs(x, 2) )\n",
    "\n",
    "# Multiple substitutions using a dictionary\n",
    "# this is 3^2 + 2*3 + 1 = 9 + 6 + 1 = 16\n",
    "display(expr.subs({x: 3, y: 1}))\n",
    "\n",
    "# Substitute expressions\n",
    "display(expr.subs(x,y))"
   ]
  },
  {
   "cell_type": "markdown",
   "metadata": {},
   "source": [
    "### Why Latex\n",
    "display(sp.sqrt(4)*x) # gives 2x and not desired $ sqrt(4) *x $ without using sp.init_printing  \n",
    "display(sp.sqrt(x)*sp.sqrt(x)) # gives x and not  desired $ sqrt(x) * sqrt(x) $   \n",
    "So, we can use latex for this\n",
    "using sym.latex for printing and evaluating \n",
    "The *sympy.latex* function in SymPy is used to convert symbolic expressions into LaTeX strings, which can be rendered nicely in Jupyter Notebooks or other environments that support LaTeX rendering.\n"
   ]
  },
  {
   "cell_type": "code",
   "execution_count": 7,
   "metadata": {},
   "outputs": [
    {
     "data": {
      "image/png": "[encoded data removed]",
      "text/latex": [
       "$\\displaystyle x^{2} + 2 x + y$"
      ],
      "text/plain": [
       " 2          \n",
       "x  + 2⋅x + y"
      ]
     },
     "metadata": {},
     "output_type": "display_data"
    },
    {
     "data": {
      "text/plain": [
       "'x^{2} + 2 x + y'"
      ]
     },
     "metadata": {},
     "output_type": "display_data"
    },
    {
     "data": {
      "text/latex": [
       "$\\displaystyle x^{2} + 2 x + y$"
      ],
      "text/plain": [
       "<IPython.core.display.Math object>"
      ]
     },
     "metadata": {},
     "output_type": "display_data"
    },
    {
     "name": "stdout",
     "output_type": "stream",
     "text": [
      "3/4\n"
     ]
    },
    {
     "data": {
      "text/plain": [
       "'3/4'"
      ]
     },
     "metadata": {},
     "output_type": "display_data"
    },
    {
     "data": {
      "text/plain": [
       "'\\\\mathtt{\\\\text{3/4}}'"
      ]
     },
     "metadata": {},
     "output_type": "display_data"
    },
    {
     "data": {
      "text/latex": [
       "$\\displaystyle \\mathtt{\\text{3/4}}$"
      ],
      "text/plain": [
       "<IPython.core.display.Math object>"
      ]
     },
     "metadata": {},
     "output_type": "display_data"
    },
    {
     "data": {
      "text/latex": [
       "$\\displaystyle \\frac{3}{4}$"
      ],
      "text/plain": [
       "<IPython.core.display.Math object>"
      ]
     },
     "metadata": {},
     "output_type": "display_data"
    }
   ],
   "source": [
    "# Define symbolic variables\n",
    "x, y = sp.symbols('x y')\n",
    "# Create an expression\n",
    "expr = x**2 + 2*x + y\n",
    "display(expr) # prints x^{2} + 2 x + y\n",
    "# display(sp.latex()) dont give correct view)\n",
    "display(sp.latex(expr)) # prints string 'x^{2} + 2 x + y'\n",
    "#method 2\n",
    "from IPython.display import display, Math\n",
    "# Display the LaTeX string using Math and display : display(Math(sp.latex()))\n",
    "display(Math(sp.latex(expr)))\n",
    "\n",
    "# suppose want to print latex string 3/4\n",
    "\n",
    "print('3/4') # prints   3/4\n",
    "display('3/4') # prints  '3/4'\n",
    "display(sp.latex('3/4')) # prints \\\\mathtt{\\\\text{3/4}}'\n",
    "display(Math(sp.latex('3/4'))) # prints 3/4\n",
    "# use sp.sympify(expr) to convert the string to a sympy expression\n",
    "\n",
    "display(Math(sp.latex(sp.sympify('3/4')))) # prints correctly "
   ]
  },
  {
   "cell_type": "markdown",
   "metadata": {},
   "source": [
    "### Latex tutorial\n",
    "***display(Math())*** is used to display a mathematical expression formatted using LaTeX syntax within a notebook cell, allowing you to present complex equations with proper formatting \n"
   ]
  },
  {
   "cell_type": "markdown",
   "metadata": {},
   "source": [
    "- for using latex in python code , use \\\\ , first \\ is used to escape the second \\ \n",
    "which specifies  following latex code, as compared with \\ used in markdown which specifies \n",
    "latex code directly\n"
   ]
  },
  {
   "cell_type": "code",
   "execution_count": null,
   "metadata": {},
   "outputs": [],
   "source": [
    "# use sp.latex with display and Math\n",
    "display(Math('\\\\sigma = \\\\mu \\\\times \\\\sqrt{5}' ))\n"
   ]
  },
  {
   "cell_type": "markdown",
   "metadata": {},
   "source": [
    "- using ***sp.symbols***, ***sp.eq*** and ***sp.latex***"
   ]
  },
  {
   "cell_type": "code",
   "execution_count": null,
   "metadata": {},
   "outputs": [],
   "source": [
    "# method 2\n",
    "# create symbols\n",
    "sigma, mu = sp.symbols('sigma mu')\n",
    "# Create the equation using sp.Eq\n",
    "expr = sp.Eq(sigma, mu * sp.sqrt(5))  \n",
    "# use sp.latex with display and Math\n",
    "display(Math(sp.latex(expr, order='old')) ) \n",
    "# display sqrtx * sqrt x\n",
    "display(Math('\\\\sqrt(x) \\\\times \\\\sqrt(x)  {or}  \\\\sqrt{x} \\\\sqrt{x}'))\n",
    "# display fractions: \\\\frac{numerator}{denominator}\n",
    "display(Math('\\\\frac{3}{4}'))\n",
    "# markdown in latex: use \\\\text{markdown}\n",
    "display(Math('\\\\text{The answer is } \\\\frac{1}{2} \\\\text{.}'))\n",
    "\n"
   ]
  },
  {
   "cell_type": "markdown",
   "metadata": {},
   "source": [
    "\n",
    "- Note :In following  expression, The symbols ***x, y, m, n, k, +, -***,\n",
    " subscripts (***_***), and superscripts (***^***) are all directly understood \n",
    " by LaTeX without needing a backslash., so there is no need of \\\\\n",
    "\n"
   ]
  },
  {
   "cell_type": "code",
   "execution_count": null,
   "metadata": {},
   "outputs": [],
   "source": [
    "# display subscript: use _tobeSubscripted\n",
    "display(Math('x_mm'))\n",
    "# display more chars in subscript: _{tobeSubscripted}\n",
    "display(Math('x_{mm}'))\n",
    "# display superscript : ^{tobeSuperscripted}\n",
    "display(Math('x_{mm} + y^{n+2k-15}'))\n"
   ]
  },
  {
   "cell_type": "markdown",
   "metadata": {},
   "source": [
    "- write text as is in latex:   \n",
    " The ***\\text{}*** command tells LaTeX to treat the content inside the curly braces as normal text.\n"
   ]
  },
  {
   "cell_type": "code",
   "execution_count": 21,
   "metadata": {},
   "outputs": [
    {
     "data": {
      "text/latex": [
       "$\\displaystyle \\text{The area of a circle is } A = \\pi r^2$"
      ],
      "text/plain": [
       "<IPython.core.display.Math object>"
      ]
     },
     "metadata": {},
     "output_type": "display_data"
    }
   ],
   "source": [
    "display(Math(r'\\text{The area of a circle is } A = \\pi r^2'))"
   ]
  },
  {
   "cell_type": "markdown",
   "metadata": {},
   "source": [
    "- Latex in markdown cell: here, we dont use \\\\ for latex but single quote and  dollar sign\n",
    "so, we write     \n",
    "***dollar \\sigma = \\mu \\times \\sqrt{5} dollar***  \n",
    "\n",
    "$ \\sigma = \\mu \\times \\sqrt{5} $\n"
   ]
  },
  {
   "cell_type": "markdown",
   "metadata": {},
   "source": [
    "some common latex commands  \n",
    "![image.png](.//images/image_latex_commands.png)\n"
   ]
  },
  {
   "cell_type": "markdown",
   "metadata": {},
   "source": [
    "### write command to display the following\n",
    "![image.png](.//images/forLoop.png)\n"
   ]
  },
  {
   "cell_type": "code",
   "execution_count": 22,
   "metadata": {},
   "outputs": [
    {
     "data": {
      "text/latex": [
       "$\\displaystyle \\text{With } x=-2, \\quad x^2+4 \\quad \\Rightarrow \\quad -2^2+4 = 8$"
      ],
      "text/plain": [
       "<IPython.core.display.Math object>"
      ]
     },
     "metadata": {},
     "output_type": "display_data"
    },
    {
     "data": {
      "text/latex": [
       "$\\displaystyle \\text{With } x=-1, \\quad x^2+4 \\quad \\Rightarrow \\quad -1^2+4 = 5$"
      ],
      "text/plain": [
       "<IPython.core.display.Math object>"
      ]
     },
     "metadata": {},
     "output_type": "display_data"
    },
    {
     "data": {
      "text/latex": [
       "$\\displaystyle \\text{With } x=0, \\quad x^2+4 \\quad \\Rightarrow \\quad 0^2+4 = 4$"
      ],
      "text/plain": [
       "<IPython.core.display.Math object>"
      ]
     },
     "metadata": {},
     "output_type": "display_data"
    },
    {
     "data": {
      "text/latex": [
       "$\\displaystyle \\text{With } x=1, \\quad x^2+4 \\quad \\Rightarrow \\quad 1^2+4 = 5$"
      ],
      "text/plain": [
       "<IPython.core.display.Math object>"
      ]
     },
     "metadata": {},
     "output_type": "display_data"
    },
    {
     "data": {
      "text/latex": [
       "$\\displaystyle \\text{With } x=2, \\quad x^2+4 \\quad \\Rightarrow \\quad 2^2+4 = 8$"
      ],
      "text/plain": [
       "<IPython.core.display.Math object>"
      ]
     },
     "metadata": {},
     "output_type": "display_data"
    },
    {
     "name": "stdout",
     "output_type": "stream",
     "text": [
      "second way  to display\n"
     ]
    },
    {
     "data": {
      "text/latex": [
       "$\\displaystyle \\text{With } x=-2, \\quad x^2+4 \\quad \\Rightarrow \\quad -2^2+4 = 8$"
      ],
      "text/plain": [
       "<IPython.core.display.Math object>"
      ]
     },
     "metadata": {},
     "output_type": "display_data"
    },
    {
     "data": {
      "text/latex": [
       "$\\displaystyle \\text{With } x=-1, \\quad x^2+4 \\quad \\Rightarrow \\quad -1^2+4 = 5$"
      ],
      "text/plain": [
       "<IPython.core.display.Math object>"
      ]
     },
     "metadata": {},
     "output_type": "display_data"
    },
    {
     "data": {
      "text/latex": [
       "$\\displaystyle \\text{With } x=0, \\quad x^2+4 \\quad \\Rightarrow \\quad 0^2+4 = 4$"
      ],
      "text/plain": [
       "<IPython.core.display.Math object>"
      ]
     },
     "metadata": {},
     "output_type": "display_data"
    },
    {
     "data": {
      "text/latex": [
       "$\\displaystyle \\text{With } x=1, \\quad x^2+4 \\quad \\Rightarrow \\quad 1^2+4 = 5$"
      ],
      "text/plain": [
       "<IPython.core.display.Math object>"
      ]
     },
     "metadata": {},
     "output_type": "display_data"
    },
    {
     "data": {
      "text/latex": [
       "$\\displaystyle \\text{With } x=2, \\quad x^2+4 \\quad \\Rightarrow \\quad 2^2+4 = 8$"
      ],
      "text/plain": [
       "<IPython.core.display.Math object>"
      ]
     },
     "metadata": {},
     "output_type": "display_data"
    }
   ],
   "source": [
    "expr = x**2 + 4\n",
    "for i in range(-2, 3):    \n",
    "    display(Math('\\\\text{With } x=%g, \\\\quad x^2+4 \\\\quad \\\\Rightarrow \\\\quad %g^2+4 = %g' % (i, i, expr.subs(x,i))))\n",
    " # breakdown \n",
    "\n",
    "# Constructs a formatted string using \n",
    "# # Math('\\\\text{With } x=%g, \\\\quad x^2+4 \\\\quad \\\\Rightarrow \\\\quad %g^2+4 = %g' % (i, i, expr.subs(x,i))). \n",
    "# #This string uses LaTeX notation to create a \n",
    "# nicely formatted mathematical expression. The %g placeholders are replaced with the values of i and the calculated result.\n",
    "\n",
    "# The \\text{} command tells LaTeX to treat the content inside the curly braces as normal text.\n",
    "# x=%g, when combined with the first i in % (i, i, expr.subs(x,i)) part,  gives x = i value\n",
    "# %g^2+4 , when combined with the second i in % (i, i, expr.subs(x,i)) part,  gives i^2 value\n",
    "# %g , when combined with the expr.subs(x,i) in % (i, i, expr.subs(x,i)) part,  gives i^2+4 value\n",
    "# with #expr.subs(x, i)  calculating  the result of the expression with x replaced by i.\n",
    "print(\"second way  to display\")\n",
    "for i in range(-2, 3):\n",
    "    ans = (x**2 + 4).subs(x, i)\n",
    "    display(Math('\\\\text{With } x=%g, \\\\quad x^2+4 \\\\quad \\\\Rightarrow \\\\quad %g^2+4 = %g' % (i, i, ans)))"
   ]
  },
  {
   "cell_type": "markdown",
   "metadata": {},
   "source": [
    "- solve these exercises  \n",
    "![image.png](.//images//latex_exercises.png)"
   ]
  },
  {
   "cell_type": "code",
   "execution_count": 35,
   "metadata": {},
   "outputs": [
    {
     "data": {
      "text/latex": [
       "$\\displaystyle 4*x + 5*y -8*z = 17$"
      ],
      "text/plain": [
       "<IPython.core.display.Math object>"
      ]
     },
     "metadata": {},
     "output_type": "display_data"
    },
    {
     "data": {
      "text/latex": [
       "$\\displaystyle \\sin(2\\pi f t + \\theta)$"
      ],
      "text/plain": [
       "<IPython.core.display.Math object>"
      ]
     },
     "metadata": {},
     "output_type": "display_data"
    },
    {
     "data": {
      "text/latex": [
       "$\\displaystyle e=mc^2$"
      ],
      "text/plain": [
       "<IPython.core.display.Math object>"
      ]
     },
     "metadata": {},
     "output_type": "display_data"
    },
    {
     "data": {
      "text/latex": [
       "$\\displaystyle \\frac{4+5x^2}{(1+x)(1-x)}$"
      ],
      "text/plain": [
       "<IPython.core.display.Math object>"
      ]
     },
     "metadata": {},
     "output_type": "display_data"
    }
   ],
   "source": [
    "display(Math('4*x + 5*y -8*z = 17'))\n",
    "display(Math('\\\\sin(2\\\\pi f t + \\\\theta)'))\n",
    "display(Math('e=mc^2'))\n",
    "display(Math('\\\\frac{4+5x^2}{(1+x)(1-x)}'))"
   ]
  }
 ],
 "metadata": {
  "kernelspec": {
   "display_name": "llmRun",
   "language": "python",
   "name": "python3"
  },
  "language_info": {
   "codemirror_mode": {
    "name": "ipython",
    "version": 3
   },
   "file_extension": ".py",
   "mimetype": "text/x-python",
   "name": "python",
   "nbconvert_exporter": "python",
   "pygments_lexer": "ipython3",
   "version": "3.9.18"
  }
 },
 "nbformat": 4,
 "nbformat_minor": 2
}
