{
 "cells": [
  {
   "cell_type": "markdown",
   "metadata": {},
   "source": [
    "### code for videos L3_19_20"
   ]
  },
  {
   "cell_type": "code",
   "execution_count": 1,
   "metadata": {},
   "outputs": [],
   "source": [
    "import numpy as np\n",
    "import matplotlib.pyplot as plt\n",
    "import sympy as sp\n"
   ]
  },
  {
   "cell_type": "markdown",
   "metadata": {},
   "source": [
    "### Excercise 1:  Estimate e\n",
    "$ e = \\lim_{n \\to \\infty} \\left( 1 + \\frac{1}{n} \\right)^n $\n",
    "!['Image not loaded'](.//images/img3_1.png)\n",
    "this would be computed as e(1) = (1+1/1)^1 = 2 , while e = 2.718"
   ]
  },
  {
   "cell_type": "code",
   "execution_count": 2,
   "metadata": {},
   "outputs": [],
   "source": [
    "   \n",
    "def approximate_e(n_values):\n",
    "    \"\"\"\n",
    "    Approximate the value of e using the formula (1 + 1/n)^n for a range of n values.\n",
    "    \n",
    "    Parameters:\n",
    "    n_values (array-like): An array of n values to use for the approximation.\n",
    "    \n",
    "    Returns:\n",
    "    tuple: A tuple containing three elements:\n",
    "        - approx (numpy.ndarray): The approximated values of e for each n.\n",
    "        - err (numpy.ndarray): The absolute errors between the approximated values and the true value of e.\n",
    "        - true_val (float): The true value of e.\n",
    "    \"\"\"\n",
    "    # Initialize arrays for approximations and errors\n",
    "    approx = np.zeros(len(n_values))\n",
    "    err = np.zeros(len(n_values))\n",
    "    \n",
    "    # True value of e\n",
    "    true_val = np.exp(1)\n",
    "    \n",
    "    # Loop through n values and calculate (1 + 1/n)^n\n",
    "    for i, n in enumerate(n_values):\n",
    "        approx[i] = (1 + 1/n)**n\n",
    "        err[i] = abs(approx[i] - true_val)\n",
    "    \n",
    "    return approx, err, true_val\n",
    "\n"
   ]
  },
  {
   "cell_type": "code",
   "execution_count": null,
   "metadata": {},
   "outputs": [],
   "source": [
    "\n",
    "n_range = np.array([1, 2, 5, 10, 20, 50, 100])\n",
    "# Print results\n",
    "exp_approx, errors, exp_true = approximate_e(n_range)\n",
    "for i, n in enumerate(n_range):\n",
    "    print(f\"n: {n}, Approximation: {exp_approx[i]:.3f}, True Value: {exp_true:.3f}, Error: {errors[i]:.3f}\")\n"
   ]
  },
  {
   "cell_type": "markdown",
   "metadata": {},
   "source": [
    "Plot error for n = 1:1000"
   ]
  },
  {
   "cell_type": "code",
   "execution_count": null,
   "metadata": {},
   "outputs": [],
   "source": [
    "n_range = np.arange(1, 1001)\n",
    "# Print results\n",
    "exp_approx, errors, exp_true = approximate_e(n_range)\n",
    "# Plot the errors\n",
    "plt.plot(n_range, errors)\n",
    "plt.xlabel('n')\n",
    "plt.ylabel(f'Difference to np.exp(1)')\n"
   ]
  },
  {
   "cell_type": "markdown",
   "metadata": {},
   "source": [
    "### plot the following together\n",
    "!['Image not loaded'](.//images/img3_2.png)"
   ]
  },
  {
   "cell_type": "code",
   "execution_count": null,
   "metadata": {},
   "outputs": [],
   "source": [
    "# input \n",
    "x = np.linspace(-2,2,100)\n",
    "# number of functions\n",
    "n_func = 5\n",
    "y = np.zeros((n_func,len(x)))\n",
    "# fill first row as y= e^x and others too\n",
    "y[0,:] = np.exp(x)\n",
    "y[1,:] = np.exp(x**2)\n",
    "y[2,:] = np.exp((-x)**2)\n",
    "y[3,:] = np.exp(-x**2)\n",
    "y[4,:] = (np.exp(-x))**2\n",
    "plt.figure(figsize=(10,6), facecolor='w', edgecolor='k')\n",
    "plt.xlabel('x')\n",
    "plt.ylabel('y')\n",
    "for i in range(n_func):\n",
    "    plt.plot(x,y[i,:])    \n",
    "plt.ylim(-2.0,10.0)\n",
    "plt.grid()\n",
    "plt.legend(['$e^x$','$e^{x^2}$','$e^{-x^2}$','$e^{-x^2}$','$(e^{-x})^2$'],loc= 'center left')"
   ]
  },
  {
   "cell_type": "markdown",
   "metadata": {},
   "source": [
    "### Implement in Sympy the following \n",
    " $ f(\\beta) = e{^\\beta} - \\log(\\beta) - 2.7182 $"
   ]
  },
  {
   "cell_type": "markdown",
   "metadata": {},
   "source": [
    "### check that  x values  created from numpy linspace and range in sympy plot with min and max x values is similar"
   ]
  },
  {
   "cell_type": "code",
   "execution_count": null,
   "metadata": {},
   "outputs": [],
   "source": [
    "sym_beta = sp.var('beta')\n",
    "sym_y = sp.exp(sym_beta) - sp.log(sym_beta) - sp.exp(1)\n",
    "xmin = -2\n",
    "xmax = 2\n",
    "# Create a plot object, but don't show it yet\n",
    "p2 = sp.plot(sym_y, (sym_beta, xmin, xmax), show=False)\n",
    "\n",
    "# Get the x-values used by SymPy for plotting\n",
    "sympy_x_values = np.array(p2[0].get_data()[0])\n",
    "\n",
    "# Generate the  linspace array limited to same number of samples\n",
    "linspace_x_values = np.linspace(xmin, xmax, len(sympy_x_values))  \n",
    "\n",
    "# Compare the two arrays (you might need some tolerance)\n",
    "are_close = np.allclose(sympy_x_values, linspace_x_values, atol=1e-6)\n",
    "\n",
    "print(f\"Are the x-values close? {are_close}\")"
   ]
  },
  {
   "cell_type": "markdown",
   "metadata": {},
   "source": [
    "### now implement the expression"
   ]
  },
  {
   "cell_type": "code",
   "execution_count": null,
   "metadata": {},
   "outputs": [],
   "source": [
    "import sympy as sp\n",
    "x_min = 0.1\n",
    "x_max= 2\n",
    "sym_beta = sp.var('beta')\n",
    "sym_y = sp.exp(sym_beta)- sp.log(sym_beta) - np.exp(1)\n",
    "# alterantive way to plot with equation specified symbolically\n",
    "# use grid through matplotlib\n",
    "from matplotlib import style\n",
    "style.use('ggplot')\n",
    "#plot with params\n",
    "p2 = sp.plot(sym_y, (sym_beta, x_min, x_max), line_color='red', line_style='solid', \\\n",
    "       xlabel='x',ylabel= f'y=f(β)', grid=True,title = f'$f(\\\\beta)= {sp.latex(sym_y)}$')\n"
   ]
  },
  {
   "cell_type": "markdown",
   "metadata": {},
   "source": [
    "### plot previous and using linspace, both in one plot"
   ]
  },
  {
   "cell_type": "code",
   "execution_count": null,
   "metadata": {},
   "outputs": [],
   "source": [
    "# methods comparing other methods of plotting: \n",
    "# using input x as entire range of values\n",
    "beta_values = np.linspace(-2, 2, 1000)  \n",
    "\n",
    "# plot  2 plots with   ranges specifiedp\n",
    "p2 = sp.plot(\n",
    "\t(sym_y, (sym_beta, x_min, x_max), {'line_color': 'red', 'line_style': 'dashed'}),\n",
    "\t(sym_y, (sym_beta, np.min(beta_values), np.max(beta_values)), {'line_color': 'blue', 'line_style': 'dashed'}),\t\n",
    ")\n"
   ]
  },
  {
   "cell_type": "markdown",
   "metadata": {},
   "source": [
    "### Plot using matplotlib and sympy\n",
    "(1) using lambdify"
   ]
  },
  {
   "cell_type": "code",
   "execution_count": null,
   "metadata": {},
   "outputs": [],
   "source": [
    "x = np.linspace(x_min, x_max,1000)\n",
    "# lambdify the function\n",
    "fx = sp.lambdify(sym_beta, sym_y, 'numpy')\n",
    "# from sympy to numpy values\n",
    "yy1 = fx(x)\n",
    "plt.plot(x,yy1, label = f'$f(\\\\beta)= {sp.latex(sym_y)}$')"
   ]
  },
  {
   "cell_type": "code",
   "execution_count": null,
   "metadata": {},
   "outputs": [],
   "source": [
    "# Filter out values where beta is positive (to avoid log of negative numbers)\n",
    "x = np.linspace(x_min, x_max, 1000)  # start from 0.1 to avoid log(0)\n",
    "# evaluate symbolic expression at each point in beta_values and convert to float\n",
    "yy2 = [float(sym_y.subs(sym_beta, beta_val).evalf()) for beta_val in x]\n",
    "plt.plot(x, yy2, label='Using sympy substitution')\n",
    "plt.grid(True)\n",
    "plt.legend()"
   ]
  },
  {
   "cell_type": "markdown",
   "metadata": {},
   "source": [
    "### plot the following graphs in symplot\n",
    "!['image not found](.//images/img3_3.png)"
   ]
  },
  {
   "cell_type": "code",
   "execution_count": 26,
   "metadata": {},
   "outputs": [
    {
     "data": {
      "image/png": "[encoded data removed]",
      "text/plain": [
       "<Figure size 640x480 with 1 Axes>"
      ]
     },
     "metadata": {},
     "output_type": "display_data"
    }
   ],
   "source": [
    "x_min = -4\n",
    "x_max = 4\n",
    "sym_x = sp.var('x')\n",
    "sym_y1 = sp.log(x)\n",
    "sym_y2 = sp.exp(x)\n",
    "sym_y3 = sp.log(sp.exp(x))\n",
    "sym_y4 = sp.exp(sp.log(x))\n",
    "# cannot change colors in symplot directly\n",
    "p2 = sp.plot(\n",
    "\t(sym_y1, (sym_x, x_min, x_max),),(sym_y2, (sym_x, x_min, x_max), ),    \n",
    "\t(sym_y3, (sym_x, x_min, x_max), ),(sym_y4, (sym_x, x_min, x_max), ),\n",
    "\tylim=(-4, 4),xlabel = 'x', ylabel ='y',legend=True)\n"
   ]
  }
 ],
 "metadata": {
  "kernelspec": {
   "display_name": "llmRun",
   "language": "python",
   "name": "python3"
  },
  "language_info": {
   "codemirror_mode": {
    "name": "ipython",
    "version": 3
   },
   "file_extension": ".py",
   "mimetype": "text/x-python",
   "name": "python",
   "nbconvert_exporter": "python",
   "pygments_lexer": "ipython3",
   "version": "3.9.18"
  }
 },
 "nbformat": 4,
 "nbformat_minor": 2
}
